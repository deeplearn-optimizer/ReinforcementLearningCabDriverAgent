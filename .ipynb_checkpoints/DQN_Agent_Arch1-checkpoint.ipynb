{
 "cells": [
  {
   "cell_type": "markdown",
   "metadata": {
    "id": "sae_X_jF25r8"
   },
   "source": [
    "### Cab-Driver Agent"
   ]
  },
  {
   "cell_type": "code",
   "execution_count": 1,
   "metadata": {
    "id": "f43G6CeY25r-"
   },
   "outputs": [],
   "source": [
    "# Importing libraries\n",
    "import numpy as np\n",
    "import random\n",
    "import math\n",
    "from collections import deque\n",
    "import collections\n",
    "import pickle\n",
    "import time\n",
    "\n",
    "# for building DQN model\n",
    "from tensorflow.keras import layers\n",
    "from tensorflow.keras import Sequential\n",
    "from tensorflow.keras.layers import Dense, Activation, Flatten\n",
    "from tensorflow.keras.optimizers import Adam\n",
    "\n",
    "# for plotting graphs\n",
    "import matplotlib.pyplot as plt\n",
    "\n",
    "# Import the environment\n",
    "from Env import CabDriver"
   ]
  },
  {
   "cell_type": "markdown",
   "metadata": {
    "id": "HFBK_moU25sC"
   },
   "source": [
    "#### Defining Time Matrix"
   ]
  },
  {
   "cell_type": "code",
   "execution_count": 2,
   "metadata": {
    "id": "mf13ZZVZ25sC"
   },
   "outputs": [],
   "source": [
    "# Loading the time matrix provided\n",
    "Time_matrix = np.load(\"TM.npy\")"
   ]
  },
  {
   "cell_type": "markdown",
   "metadata": {
    "id": "Os1ItWA125sD"
   },
   "source": [
    "#### Tracking the state-action pairs for checking convergence\n"
   ]
  },
  {
   "cell_type": "markdown",
   "metadata": {
    "id": "9UjjpS0h25sH"
   },
   "source": [
    "### Agent Class\n",
    "\n",
    "If you are using this framework, you need to fill the following to complete the following code block:\n",
    "1. State and Action Size\n",
    "2. Hyperparameters\n",
    "3. Create a neural-network model in function 'build_model()'\n",
    "4. Define epsilon-greedy strategy in function 'get_action()'\n",
    "5. Complete the function 'append_sample()'. This function appends the recent experience tuple <state, action, reward, new-state> to the memory\n",
    "6. Complete the 'train_model()' function with following logic:\n",
    "   - If the memory size is greater than mini-batch size, you randomly sample experiences from memory as per the mini-batch size and do the following:\n",
    "      - Initialise your input and output batch for training the model\n",
    "      - Calculate the target Q value for each sample: reward + gamma*max(Q(s'a,))\n",
    "      - Get Q(s', a) values from the last trained model\n",
    "      - Update the input batch as your encoded state and output batch as your Q-values\n",
    "      - Then fit your DQN model using the updated input and output batch."
   ]
  },
  {
   "cell_type": "code",
   "execution_count": 3,
   "metadata": {
    "id": "kj-gvkbV25sI"
   },
   "outputs": [],
   "source": [
    "class DQNAgent:\n",
    "    def __init__(self, state_size, action_size):\n",
    "        # Define size of state and action\n",
    "        self.state_size = state_size\n",
    "        self.action_size = action_size\n",
    "\n",
    "        # Write here: Specify you hyper parameters for the DQN\n",
    "        self.discount_facter = 0.95\n",
    "        self.learning_rate = 0.01 \n",
    "        self.epsilon = 1\n",
    "        self.epsilon_max = 1\n",
    "        self.epsilon_decay = -0.0005 \n",
    "        self.epsilon_min = -0.00001\n",
    "        \n",
    "        self.batch_size = 32        \n",
    "        # create replay memory using deque\n",
    "        self.memory = deque(maxlen=2000)\n",
    "        \n",
    "        self.states_tracked = []\n",
    "\n",
    "        self.track_state = np.array(env.state_encod_arch1([0,0,0])).reshape(1, 36)\n",
    "        # create main model and target model\n",
    "        #self.model = self.build_model()\n",
    "\n",
    "    # approximate Q function using Neural Network\n",
    "    def build_model(self):\n",
    "        model = Sequential()\n",
    "        # Write your code here: Add layers to your neural nets       \n",
    "        model.add(Dense(32, input_dim = self.state_size, activation = \"relu\", kernel_initializer = \"he_uniform\"))\n",
    "        model.add(Dense(32, activation = \"relu\", kernel_initializer = \"he_uniform\"))\n",
    "        model.add(Dense(self.action_size, activation = \"relu\", kernel_initializer = \"he_uniform\"))\n",
    "        model.compile(loss='mse',optimizer=Adam(learning_rate=self.learning_rate))\n",
    "        model.summary\n",
    "        return model\n",
    "\n",
    "\n",
    "    def get_action(self, state, possible_actions_index, actions):\n",
    "    # Write your code here:\n",
    "    # get action from model using epsilon-greedy policy\n",
    "    # Decay in ε after we generate each sample from the environment       \n",
    "        if np.random.rand() <= self.epsilon:\n",
    "            return random.choice(possible_actions_index)\n",
    "        else:\n",
    "            state = np.array(env.state_encod_arch1(state)).reshape(1, 36)\n",
    "            q_value = model.predict(state)\n",
    "            q_vals_possible = [q_value[0][i] for i in possible_actions_index]\n",
    "            return possible_actions_index[np.argmax(q_vals_possible)]\n",
    "\n",
    "\n",
    "    def append_sample(self, state, action_index, reward, next_state, done):\n",
    "    # Write your code here:\n",
    "    # save sample <s,a,r,s'> to the replay memory\n",
    "        self.memory.append((state, action_index, reward, next_state, done))\n",
    "    \n",
    "    \n",
    "    # pick samples randomly from replay memory (with batch_size) and train the network\n",
    "    def train_model(self):\n",
    "        if len(self.memory) > self.batch_size:\n",
    "            # Sample batch from the memory\n",
    "            mini_batch = random.sample(self.memory, self.batch_size)\n",
    "            #updated output with the Qvalue estimates\n",
    "            update_output = np.zeros((self.batch_size, self.state_size))\n",
    "            #updated input with the batch sampled from memory buffer\n",
    "            update_input = np.zeros((self.batch_size, self.state_size))\n",
    "            #record of batch processing results\n",
    "            actions, rewards, done = [], [], []\n",
    "            for i in range(self.batch_size):\n",
    "                #process the sample\n",
    "                state, action, reward, next_state, done_value = mini_batch[i]\n",
    "                # encode the state\n",
    "                update_input[i] = env.state_encod_arch1(state)\n",
    "                #append the aciton\n",
    "                actions.append(action)\n",
    "                #append the reward\n",
    "                rewards.append(reward)\n",
    "                #store the encoded next state in the update_output, laterwe will use it to estimate the qvalue\n",
    "                update_output[i] = env.state_encod_arch1(next_state)\n",
    "                #check for termination\n",
    "                done.append(done_value)\n",
    "            #predict the qvalue estimates for input\n",
    "            target = model.predict(update_input)\n",
    "            #prdict the target qval estimates for the ouptut array\n",
    "            target_qval = model.predict(update_output)\n",
    "            \n",
    "            for i in range(self.batch_size):\n",
    "                if done[i]:\n",
    "                    target[i][actions[i]] = rewards[i]\n",
    "                else:\n",
    "                    #here sum up the current reward with the Qvalue predictions\n",
    "                    target[i][actions[i]] = rewards[i] + self.discount_facter * np.max(target_qval[i])\n",
    "            #fit the model with the calculated mini batch and target outputs!\n",
    "            model.fit(update_input, target, batch_size = self.batch_size, epochs = 1, verbose = 0)\n",
    "        \n",
    "    #state traking function for convergence\n",
    "    def save_tracking_states(self):\n",
    "        q_value = model.predict(self.track_state)\n",
    "        self.states_tracked.append(q_value[0][2])\n",
    "    \n",
    "    # save the keras model\n",
    "    def save(self, name):\n",
    "        model.save(name)"
   ]
  },
  {
   "cell_type": "code",
   "execution_count": 4,
   "metadata": {
    "id": "G-fmRZdf25sK"
   },
   "outputs": [],
   "source": [
    "#30 dayes of epiode time\n",
    "episode_time = 24 * 30 \n",
    "#initially train for 4k episodes\n",
    "n_episodes = 4000\n",
    "m = 5\n",
    "t = 24\n",
    "d = 7\n",
    "#get the environment\n",
    "env = CabDriver()\n",
    "#reset env\n",
    "action_space, state_space, state = env.reset()\n",
    "state_size = m+t+d\n",
    "action_size = len(action_space)\n",
    "\n",
    "agent = DQNAgent(action_size=action_size, state_size=state_size)\n",
    "#record rewards per action\n",
    "rewards_per_episode, episodes = [], []\n",
    "rewards_init_state = []"
   ]
  },
  {
   "cell_type": "code",
   "execution_count": 8,
   "metadata": {
    "colab": {
     "base_uri": "https://localhost:8080/"
    },
    "id": "6tmOepWx25sL",
    "outputId": "ebb5d43a-cc99-4940-a97f-efc1158244d3"
   },
   "outputs": [
    {
     "name": "stdout",
     "output_type": "stream",
     "text": [
      "Saving Model 3200\n",
      "episode number 3209, reward gained 1468.0\n",
      "episode number 3219, reward gained 1343.0\n",
      "episode number 3229, reward gained 1189.0\n",
      "episode number 3239, reward gained 1689.0\n",
      "episode number 3249, reward gained 1119.0\n",
      "episode number 3259, reward gained 1725.0\n",
      "episode number 3269, reward gained 1332.0\n",
      "episode number 3279, reward gained 1546.0\n",
      "episode number 3289, reward gained 1384.0\n",
      "episode number 3299, reward gained 1137.0\n",
      "Saving Model 3300\n",
      "episode number 3309, reward gained 1427.0\n",
      "episode number 3319, reward gained 1441.0\n",
      "episode number 3329, reward gained 1361.0\n",
      "episode number 3339, reward gained 1369.0\n",
      "episode number 3349, reward gained 956.0\n",
      "episode number 3359, reward gained 1647.0\n",
      "episode number 3369, reward gained 1459.0\n",
      "episode number 3379, reward gained 1493.0\n",
      "episode number 3389, reward gained 1039.0\n",
      "episode number 3399, reward gained 1413.0\n",
      "Saving Model 3400\n",
      "episode number 3409, reward gained 964.0\n",
      "episode number 3419, reward gained 1180.0\n",
      "episode number 3429, reward gained 1526.0\n",
      "episode number 3439, reward gained 1447.0\n",
      "episode number 3449, reward gained 1505.0\n",
      "episode number 3459, reward gained 1506.0\n",
      "episode number 3469, reward gained 1760.0\n",
      "episode number 3479, reward gained 1111.0\n",
      "episode number 3489, reward gained 1539.0\n",
      "episode number 3499, reward gained 1215.0\n",
      "Saving Model 3500\n",
      "episode number 3509, reward gained 1522.0\n",
      "episode number 3519, reward gained 1521.0\n",
      "episode number 3529, reward gained 1476.0\n",
      "episode number 3539, reward gained 1454.0\n",
      "episode number 3549, reward gained 1399.0\n",
      "episode number 3559, reward gained 1472.0\n",
      "episode number 3569, reward gained 1211.0\n",
      "episode number 3579, reward gained 1377.0\n",
      "episode number 3589, reward gained 1670.0\n",
      "episode number 3599, reward gained 1217.0\n",
      "Saving Model 3600\n",
      "episode number 3609, reward gained 1144.0\n",
      "episode number 3619, reward gained 1382.0\n",
      "episode number 3629, reward gained 1407.0\n",
      "episode number 3639, reward gained 1441.0\n",
      "episode number 3649, reward gained 1295.0\n",
      "episode number 3659, reward gained 1208.0\n",
      "episode number 3669, reward gained 1330.0\n",
      "episode number 3679, reward gained 1222.0\n",
      "episode number 3689, reward gained 1365.0\n",
      "episode number 3699, reward gained 1512.0\n",
      "Saving Model 3700\n",
      "episode number 3709, reward gained 1431.0\n",
      "episode number 3719, reward gained 1601.0\n",
      "episode number 3729, reward gained 1508.0\n",
      "episode number 3739, reward gained 1511.0\n",
      "episode number 3749, reward gained 1459.0\n",
      "episode number 3759, reward gained 1191.0\n",
      "episode number 3769, reward gained 1346.0\n",
      "episode number 3779, reward gained 1444.0\n",
      "episode number 3789, reward gained 1454.0\n",
      "episode number 3799, reward gained 1720.0\n",
      "Saving Model 3800\n",
      "episode number 3809, reward gained 1556.0\n",
      "episode number 3819, reward gained 1422.0\n",
      "episode number 3829, reward gained 1407.0\n",
      "episode number 3839, reward gained 1530.0\n",
      "episode number 3849, reward gained 1646.0\n",
      "episode number 3859, reward gained 1581.0\n",
      "episode number 3869, reward gained 1302.0\n",
      "episode number 3879, reward gained 1477.0\n",
      "episode number 3889, reward gained 1716.0\n",
      "episode number 3899, reward gained 1526.0\n",
      "Saving Model 3900\n",
      "episode number 3909, reward gained 1176.0\n",
      "episode number 3919, reward gained 1595.0\n",
      "episode number 3929, reward gained 1446.0\n",
      "episode number 3939, reward gained 1413.0\n",
      "episode number 3949, reward gained 1584.0\n",
      "episode number 3959, reward gained 1247.0\n",
      "episode number 3969, reward gained 1635.0\n",
      "episode number 3979, reward gained 1505.0\n",
      "episode number 3989, reward gained 1778.0\n",
      "episode number 3999, reward gained 1706.0\n",
      "19663.555787086487\n"
     ]
    }
   ],
   "source": [
    "start_time = time.time()\n",
    "score_tracked = []\n",
    "\n",
    "for episode in range(3200, n_episodes):\n",
    "    done = False\n",
    "    score = 0\n",
    "    track_reward = False\n",
    "    \n",
    "    env = CabDriver()\n",
    "    action_space , state_space, state = env.reset()\n",
    "    initial_state = env.state_init\n",
    "    \n",
    "    total_time = 0\n",
    "    \n",
    "    while not done:\n",
    "        possible_actions_indices, actions  = env.get_requests(state)\n",
    "        action = agent.get_action(state, possible_actions_indices, actions)\n",
    "        reward, next_state, step_time = env.step(state, env.action_space[action], Time_matrix)\n",
    "        total_time += step_time\n",
    "        if(total_time > episode_time):\n",
    "            done = True\n",
    "        else:\n",
    "            agent.append_sample(state, action, reward, next_state, done)\n",
    "            agent.train_model()\n",
    "            score += reward\n",
    "            state = next_state\n",
    "            \n",
    "    rewards_per_episode.append(score)\n",
    "    episodes.append(episode)\n",
    "    agent.epsilon = (1 - 0.00001)*np.exp(agent.epsilon_decay * episode)\n",
    "    \n",
    "    if ((episode + 1) % 10 == 0):\n",
    "        print(\"episode number {0}, reward gained {1}\".format(episode,score))\n",
    "    if ((episode + 1) % 5 == 0):\n",
    "        agent.save_tracking_states()\n",
    "\n",
    "    score_tracked.append(score)\n",
    "\n",
    "    if((episode) % 100 == 0):\n",
    "        print(\"Saving Model {}\".format(episode))\n",
    "        agent.save(name=\"model_weights.h5\")\n",
    "    \n",
    "elapsed_time = time.time() - start_time\n",
    "print(elapsed_time)\n"
   ]
  },
  {
   "cell_type": "markdown",
   "metadata": {},
   "source": [
    "#### Rewards after 2000 iterations/episodes."
   ]
  },
  {
   "cell_type": "code",
   "execution_count": 23,
   "metadata": {},
   "outputs": [
    {
     "data": {
      "image/png": "[encoded data removed]",
      "text/plain": [
       "<Figure size 432x288 with 1 Axes>"
      ]
     },
     "metadata": {
      "needs_background": "light"
     },
     "output_type": "display_data"
    }
   ],
   "source": [
    "import matplotlib.pyplot as plt\n",
    "plt.plot(list(range(len(rewards_per_episode))), rewards_per_episode)\n",
    "plt.xlabel(\"episode number\")\n",
    "plt.ylabel(\"reward\")\n",
    "plt.show()"
   ]
  },
  {
   "cell_type": "markdown",
   "metadata": {},
   "source": [
    "#### TRAIN FURTHER."
   ]
  },
  {
   "cell_type": "code",
   "execution_count": null,
   "metadata": {},
   "outputs": [
    {
     "name": "stdout",
     "output_type": "stream",
     "text": [
      "Saving Model 4000\n",
      "episode number 4009, reward gained 1335.0\n",
      "episode number 4019, reward gained 1657.0\n",
      "episode number 4029, reward gained 1239.0\n",
      "episode number 4039, reward gained 1432.0\n",
      "episode number 4049, reward gained 1399.0\n",
      "episode number 4059, reward gained 1657.0\n",
      "episode number 4069, reward gained 1770.0\n",
      "episode number 4079, reward gained 1486.0\n",
      "episode number 4089, reward gained 1462.0\n",
      "episode number 4099, reward gained 1688.0\n",
      "Saving Model 4100\n",
      "episode number 4109, reward gained 1548.0\n",
      "episode number 4119, reward gained 1578.0\n",
      "episode number 4129, reward gained 1512.0\n",
      "episode number 4139, reward gained 1743.0\n",
      "episode number 4149, reward gained 1718.0\n",
      "episode number 4159, reward gained 1732.0\n",
      "episode number 4169, reward gained 1407.0\n",
      "episode number 4179, reward gained 1449.0\n",
      "episode number 4189, reward gained 1590.0\n",
      "episode number 4199, reward gained 1161.0\n",
      "Saving Model 4200\n",
      "episode number 4209, reward gained 1618.0\n",
      "episode number 4219, reward gained 1603.0\n",
      "episode number 4229, reward gained 1451.0\n",
      "episode number 4239, reward gained 1671.0\n",
      "episode number 4249, reward gained 1820.0\n",
      "episode number 4259, reward gained 1634.0\n",
      "episode number 4269, reward gained 1256.0\n",
      "episode number 4279, reward gained 1520.0\n",
      "episode number 4289, reward gained 1541.0\n",
      "episode number 4299, reward gained 1612.0\n",
      "Saving Model 4300\n",
      "episode number 4309, reward gained 1553.0\n",
      "episode number 4319, reward gained 1796.0\n",
      "episode number 4329, reward gained 1732.0\n",
      "episode number 4339, reward gained 1423.0\n",
      "episode number 4349, reward gained 1452.0\n",
      "episode number 4359, reward gained 1518.0\n",
      "episode number 4369, reward gained 1357.0\n",
      "episode number 4379, reward gained 1603.0\n",
      "episode number 4389, reward gained 1629.0\n",
      "episode number 4399, reward gained 1350.0\n",
      "Saving Model 4400\n",
      "episode number 4409, reward gained 1454.0\n",
      "episode number 4419, reward gained 1340.0\n",
      "episode number 4429, reward gained 1737.0\n",
      "episode number 4439, reward gained 1371.0\n",
      "episode number 4449, reward gained 1485.0\n",
      "episode number 4459, reward gained 1544.0\n",
      "episode number 4469, reward gained 1837.0\n",
      "episode number 4479, reward gained 1409.0\n",
      "episode number 4489, reward gained 1631.0\n",
      "episode number 4499, reward gained 1528.0\n",
      "Saving Model 4500\n",
      "episode number 4509, reward gained 1599.0\n",
      "episode number 4519, reward gained 1720.0\n",
      "episode number 4529, reward gained 1661.0\n",
      "episode number 4539, reward gained 1432.0\n",
      "episode number 4549, reward gained 1688.0\n",
      "episode number 4559, reward gained 1422.0\n",
      "episode number 4569, reward gained 1710.0\n",
      "episode number 4579, reward gained 1538.0\n",
      "episode number 4589, reward gained 1535.0\n",
      "episode number 4599, reward gained 1287.0\n",
      "Saving Model 4600\n",
      "episode number 4609, reward gained 1726.0\n",
      "episode number 4619, reward gained 1688.0\n",
      "episode number 4629, reward gained 1798.0\n",
      "episode number 4639, reward gained 1628.0\n",
      "episode number 4649, reward gained 1645.0\n",
      "episode number 4659, reward gained 1662.0\n",
      "episode number 4669, reward gained 1769.0\n",
      "episode number 4679, reward gained 1764.0\n",
      "episode number 4689, reward gained 1553.0\n",
      "episode number 4699, reward gained 1847.0\n",
      "Saving Model 4700\n",
      "episode number 4709, reward gained 1253.0\n",
      "episode number 4719, reward gained 1562.0\n",
      "episode number 4729, reward gained 1657.0\n",
      "episode number 4739, reward gained 1861.0\n",
      "episode number 4749, reward gained 1760.0\n",
      "episode number 4759, reward gained 1787.0\n",
      "episode number 4769, reward gained 1674.0\n",
      "episode number 4779, reward gained 1602.0\n",
      "episode number 4789, reward gained 1610.0\n",
      "episode number 4799, reward gained 1613.0\n",
      "Saving Model 4800\n",
      "episode number 4809, reward gained 1739.0\n",
      "episode number 4819, reward gained 1845.0\n",
      "episode number 4829, reward gained 1491.0\n",
      "episode number 4839, reward gained 1339.0\n",
      "episode number 4849, reward gained 1508.0\n",
      "episode number 4859, reward gained 1605.0\n",
      "episode number 4869, reward gained 1622.0\n",
      "episode number 4879, reward gained 1251.0\n",
      "episode number 4889, reward gained 1873.0\n",
      "episode number 4899, reward gained 1763.0\n",
      "Saving Model 4900\n",
      "episode number 4909, reward gained 1386.0\n"
     ]
    }
   ],
   "source": [
    "for episode in range(4000, 5500):\n",
    "    done = False\n",
    "    score = 0\n",
    "    track_reward = False\n",
    "    \n",
    "    env = CabDriver()\n",
    "    action_space , state_space, state = env.reset()\n",
    "    initial_state = env.state_init\n",
    "    \n",
    "    total_time = 0\n",
    "    while not done:\n",
    "        possible_actions_indices, actions  = env.get_requests(state)\n",
    "        action = agent.get_action(state, possible_actions_indices, actions)\n",
    "        reward, next_state, step_time = env.step(state, env.action_space[action], Time_matrix)\n",
    "        total_time += step_time\n",
    "        if(total_time > episode_time):\n",
    "            done = True\n",
    "        else:\n",
    "            agent.append_sample(state, action, reward, next_state, done)\n",
    "            agent.train_model()\n",
    "            score += reward\n",
    "            state = next_state\n",
    "    rewards_per_episode.append(score)\n",
    "    episodes.append(episode)\n",
    "    agent.epsilon = (1 - 0.00001)*np.exp(agent.epsilon_decay * episode)\n",
    "    \n",
    "    if ((episode + 1) % 10 == 0):\n",
    "        print(\"episode number {0}, reward gained {1}\".format(episode,score))\n",
    "    if ((episode + 1) % 5 == 0):\n",
    "        agent.save_tracking_states()\n",
    "\n",
    "    score_tracked.append(score)\n",
    "\n",
    "    if((episode) % 100 == 0):\n",
    "        print(\"Saving Model {}\".format(episode))\n",
    "        agent.save(name=\"model_weights.h5\")\n",
    "    \n",
    "elapsed_time = time.time() - start_time\n",
    "print(elapsed_time)"
   ]
  },
  {
   "cell_type": "markdown",
   "metadata": {},
   "source": [
    "### TRAIN EVEN FURTHER BY LOADING THE SAVED MODEL"
   ]
  },
  {
   "cell_type": "code",
   "execution_count": 7,
   "metadata": {},
   "outputs": [],
   "source": [
    "import tensorflow as tf \n",
    "model = tf.keras.models.load_model(\"model_weights.h5\")\n",
    "model.summary()\n",
    "agent.epsilon = (1 - 0.00001)*np.exp(agent.epsilon_decay * 4900)"
   ]
  },
  {
   "cell_type": "code",
   "execution_count": 9,
   "metadata": {},
   "outputs": [
    {
     "name": "stdout",
     "output_type": "stream",
     "text": [
      "Saving Model 4900\n",
      "episode number 4909, reward gained 1382.0\n",
      "episode number 4919, reward gained 1658.0\n",
      "episode number 4929, reward gained 1806.0\n",
      "episode number 4939, reward gained 1800.0\n",
      "episode number 4949, reward gained 1737.0\n",
      "episode number 4959, reward gained 1980.0\n",
      "episode number 4969, reward gained 1679.0\n",
      "episode number 4979, reward gained 1677.0\n",
      "episode number 4989, reward gained 1581.0\n",
      "episode number 4999, reward gained 1288.0\n",
      "Saving Model 5000\n",
      "episode number 5009, reward gained 1602.0\n",
      "episode number 5019, reward gained 1774.0\n",
      "episode number 5029, reward gained 1640.0\n",
      "episode number 5039, reward gained 1382.0\n",
      "episode number 5049, reward gained 1677.0\n",
      "episode number 5059, reward gained 1678.0\n",
      "episode number 5069, reward gained 1610.0\n",
      "episode number 5079, reward gained 1455.0\n",
      "episode number 5089, reward gained 1774.0\n",
      "episode number 5099, reward gained 1847.0\n",
      "Saving Model 5100\n",
      "episode number 5109, reward gained 1716.0\n",
      "episode number 5119, reward gained 1627.0\n",
      "episode number 5129, reward gained 1678.0\n",
      "episode number 5139, reward gained 1710.0\n",
      "episode number 5149, reward gained 1717.0\n",
      "episode number 5159, reward gained 1625.0\n",
      "episode number 5169, reward gained 1693.0\n",
      "episode number 5179, reward gained 1602.0\n",
      "episode number 5189, reward gained 1654.0\n",
      "episode number 5199, reward gained 1355.0\n",
      "Saving Model 5200\n",
      "episode number 5209, reward gained 1809.0\n",
      "episode number 5219, reward gained 1781.0\n",
      "episode number 5229, reward gained 1529.0\n",
      "episode number 5239, reward gained 1341.0\n",
      "episode number 5249, reward gained 1584.0\n",
      "episode number 5259, reward gained 1520.0\n",
      "episode number 5269, reward gained 2012.0\n",
      "episode number 5279, reward gained 1755.0\n",
      "episode number 5289, reward gained 1768.0\n",
      "episode number 5299, reward gained 1643.0\n",
      "Saving Model 5300\n",
      "episode number 5309, reward gained 1594.0\n",
      "episode number 5319, reward gained 1512.0\n",
      "episode number 5329, reward gained 1235.0\n",
      "episode number 5339, reward gained 1595.0\n",
      "episode number 5349, reward gained 1446.0\n",
      "episode number 5359, reward gained 1625.0\n",
      "episode number 5369, reward gained 1558.0\n",
      "episode number 5379, reward gained 1985.0\n",
      "episode number 5389, reward gained 1686.0\n",
      "episode number 5399, reward gained 1540.0\n",
      "Saving Model 5400\n",
      "episode number 5409, reward gained 1771.0\n",
      "episode number 5419, reward gained 1773.0\n",
      "episode number 5429, reward gained 1645.0\n",
      "episode number 5439, reward gained 1905.0\n",
      "episode number 5449, reward gained 1860.0\n",
      "episode number 5459, reward gained 1780.0\n",
      "episode number 5469, reward gained 1841.0\n",
      "episode number 5479, reward gained 1603.0\n",
      "episode number 5489, reward gained 1644.0\n",
      "episode number 5499, reward gained 1886.0\n",
      "16418.976370573044\n"
     ]
    }
   ],
   "source": [
    "start_time = time.time()\n",
    "score_tracked = []\n",
    "\n",
    "for episode in range(4900, 5500):\n",
    "    done = False\n",
    "    score = 0\n",
    "    track_reward = False\n",
    "    \n",
    "    env = CabDriver()\n",
    "    action_space , state_space, state = env.reset()\n",
    "    initial_state = env.state_init\n",
    "    \n",
    "    total_time = 0\n",
    "    \n",
    "    while not done:\n",
    "        possible_actions_indices, actions  = env.get_requests(state)\n",
    "        action = agent.get_action(state, possible_actions_indices, actions)\n",
    "        reward, next_state, step_time = env.step(state, env.action_space[action], Time_matrix)\n",
    "        total_time += step_time\n",
    "        if(total_time > episode_time):\n",
    "            done = True\n",
    "        else:\n",
    "            agent.append_sample(state, action, reward, next_state, done)\n",
    "            agent.train_model()\n",
    "            score += reward\n",
    "            state = next_state\n",
    "            \n",
    "    rewards_per_episode.append(score)\n",
    "    episodes.append(episode)\n",
    "    agent.epsilon = (1 - 0.00001)*np.exp(agent.epsilon_decay * episode)\n",
    "    \n",
    "    if ((episode + 1) % 10 == 0):\n",
    "        print(\"episode number {0}, reward gained {1}\".format(episode,score))\n",
    "    if ((episode + 1) % 5 == 0):\n",
    "        agent.save_tracking_states()\n",
    "\n",
    "    score_tracked.append(score)\n",
    "\n",
    "    if((episode) % 100 == 0):\n",
    "        print(\"Saving Model {}\".format(episode))\n",
    "        agent.save(name=\"model_weights.h5\")\n",
    "    \n",
    "elapsed_time = time.time() - start_time\n",
    "print(elapsed_time)\n"
   ]
  },
  {
   "cell_type": "code",
   "execution_count": 13,
   "metadata": {},
   "outputs": [],
   "source": [
    "import pandas as pd\n",
    "rewards = pd.read_csv(\"rewards.csv\")\n",
    "rewards = rewards.Reward.values.tolist()"
   ]
  },
  {
   "cell_type": "code",
   "execution_count": 14,
   "metadata": {},
   "outputs": [],
   "source": [
    "rewards += rewards_per_episode"
   ]
  },
  {
   "cell_type": "markdown",
   "metadata": {},
   "source": [
    "#### GRAPH IS STABLE AROUND 1600 AFTER 5000 iterations"
   ]
  },
  {
   "cell_type": "code",
   "execution_count": 10,
   "metadata": {},
   "outputs": [
    {
     "data": {
      "image/png": "[encoded data removed]",
      "text/plain": [
       "<Figure size 432x288 with 1 Axes>"
      ]
     },
     "metadata": {
      "needs_background": "light"
     },
     "output_type": "display_data"
    }
   ],
   "source": [
    "import matplotlib.pyplot as plt\n",
    "plt.plot(list(range(len(rewards_per_episode))), rewards_per_episode)\n",
    "plt.xlabel(\"episode number\")\n",
    "plt.ylabel(\"reward\")\n",
    "plt.show()"
   ]
  },
  {
   "cell_type": "markdown",
   "metadata": {},
   "source": [
    "### FOLLOWING IS THE FINAL GRAPH\n",
    "THAT SUDDEN JUMP IS BECAUSE I Did'nt record the rewards in between episodes but extreme right part shows the graph is converged!"
   ]
  },
  {
   "cell_type": "code",
   "execution_count": 20,
   "metadata": {},
   "outputs": [
    {
     "data": {
      "image/png": "[encoded data removed]",
      "text/plain": [
       "<Figure size 1152x504 with 1 Axes>"
      ]
     },
     "metadata": {
      "needs_background": "light"
     },
     "output_type": "display_data"
    }
   ],
   "source": [
    "import matplotlib.pyplot as plt\n",
    "\n",
    "\n",
    "plt.figure(0, figsize=(16,7))\n",
    "plt.plot(list(range(len(rewards))), rewards)\n",
    "plt.xlabel(\"episode number\")\n",
    "plt.ylabel(\"reward\")\n",
    "plt.show()"
   ]
  },
  {
   "cell_type": "code",
   "execution_count": 25,
   "metadata": {},
   "outputs": [],
   "source": [
    "import pandas as pd\n",
    "data = pd.DataFrame(data=rewards_per_episode,index = list(range(len(rewards_per_episode))), columns = [\"Reward\"])\n",
    "data.to_csv(\"rewards.csv\")"
   ]
  },
  {
   "cell_type": "markdown",
   "metadata": {
    "id": "LaSgHLJO25sP"
   },
   "source": [
    "#### Epsilon-decay sample function"
   ]
  },
  {
   "cell_type": "markdown",
   "metadata": {
    "id": "xwdtjs3l25sQ"
   },
   "source": [
    "<div class=\"alert alert-block alert-info\">\n",
    "Try building a similar epsilon-decay function for your model.\n",
    "</div>"
   ]
  },
  {
   "cell_type": "code",
   "execution_count": 18,
   "metadata": {
    "id": "8JqQexkt25sQ"
   },
   "outputs": [],
   "source": [
    "time = np.arange(0,10000)\n",
    "epsilon = []\n",
    "for i in range(0,10000):\n",
    "    epsilon.append(0 + (1 - 0) * np.exp(-0.0009*i))"
   ]
  },
  {
   "cell_type": "code",
   "execution_count": 19,
   "metadata": {
    "id": "BsX_bDuN25sQ"
   },
   "outputs": [
    {
     "data": {
      "image/png": "[encoded data removed]",
      "text/plain": [
       "<Figure size 432x288 with 1 Axes>"
      ]
     },
     "metadata": {
      "needs_background": "light"
     },
     "output_type": "display_data"
    }
   ],
   "source": [
    "plt.plot(time, epsilon)\n",
    "plt.show()"
   ]
  }
 ],
 "metadata": {
  "accelerator": "GPU",
  "colab": {
   "collapsed_sections": [],
   "name": "DQN_Agent_Arch1.ipynb",
   "provenance": []
  },
  "kernelspec": {
   "display_name": "Python 3",
   "language": "python",
   "name": "python3"
  },
  "language_info": {
   "codemirror_mode": {
    "name": "ipython",
    "version": 3
   },
   "file_extension": ".py",
   "mimetype": "text/x-python",
   "name": "python",
   "nbconvert_exporter": "python",
   "pygments_lexer": "ipython3",
   "version": "3.8.10"
  }
 },
 "nbformat": 4,
 "nbformat_minor": 1
}
